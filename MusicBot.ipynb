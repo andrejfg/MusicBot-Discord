{
  "nbformat": 4,
  "nbformat_minor": 0,
  "metadata": {
    "colab": {
      "name": "MusicBot.ipynb",
      "provenance": [],
      "authorship_tag": "ABX9TyNJbaKbVXZMKoUK1nurJS7Q",
      "include_colab_link": true
    },
    "kernelspec": {
      "display_name": "Python 3",
      "name": "python3"
    },
    "language_info": {
      "name": "python"
    }
  },
  "cells": [
    {
      "cell_type": "markdown",
      "metadata": {
        "id": "view-in-github",
        "colab_type": "text"
      },
      "source": [
        "<a href=\"https://colab.research.google.com/github/andrejfg/MusicBot-Discord/blob/main/MusicBot.ipynb\" target=\"_parent\"><img src=\"https://colab.research.google.com/assets/colab-badge.svg\" alt=\"Open In Colab\"/></a>"
      ]
    },
    {
      "cell_type": "code",
      "metadata": {
        "colab": {
          "base_uri": "https://localhost:8080/"
        },
        "id": "RNqMf8L2yJT_",
        "outputId": "ca495d93-b17c-4baa-fde0-eeb2136324f5"
      },
      "source": [
        "!pip install discord.py\n",
        "!pip install dismusic==1.0.1\n",
        "!pip install discord-custom-help\n",
        "!pip install nest-asyncio"
      ],
      "execution_count": 1,
      "outputs": [
        {
          "output_type": "stream",
          "name": "stdout",
          "text": [
            "Requirement already satisfied: discord.py in /usr/local/lib/python3.7/dist-packages (1.7.3)\n",
            "Requirement already satisfied: aiohttp<3.8.0,>=3.6.0 in /usr/local/lib/python3.7/dist-packages (from discord.py) (3.7.4.post0)\n",
            "Requirement already satisfied: attrs>=17.3.0 in /usr/local/lib/python3.7/dist-packages (from aiohttp<3.8.0,>=3.6.0->discord.py) (21.2.0)\n",
            "Requirement already satisfied: typing-extensions>=3.6.5 in /usr/local/lib/python3.7/dist-packages (from aiohttp<3.8.0,>=3.6.0->discord.py) (3.10.0.2)\n",
            "Requirement already satisfied: chardet<5.0,>=2.0 in /usr/local/lib/python3.7/dist-packages (from aiohttp<3.8.0,>=3.6.0->discord.py) (3.0.4)\n",
            "Requirement already satisfied: async-timeout<4.0,>=3.0 in /usr/local/lib/python3.7/dist-packages (from aiohttp<3.8.0,>=3.6.0->discord.py) (3.0.1)\n",
            "Requirement already satisfied: yarl<2.0,>=1.0 in /usr/local/lib/python3.7/dist-packages (from aiohttp<3.8.0,>=3.6.0->discord.py) (1.7.2)\n",
            "Requirement already satisfied: multidict<7.0,>=4.5 in /usr/local/lib/python3.7/dist-packages (from aiohttp<3.8.0,>=3.6.0->discord.py) (5.2.0)\n",
            "Requirement already satisfied: idna>=2.0 in /usr/local/lib/python3.7/dist-packages (from yarl<2.0,>=1.0->aiohttp<3.8.0,>=3.6.0->discord.py) (2.10)\n",
            "Requirement already satisfied: dismusic==1.0.1 in /usr/local/lib/python3.7/dist-packages (1.0.1)\n",
            "Requirement already satisfied: discord.py in /usr/local/lib/python3.7/dist-packages (from dismusic==1.0.1) (1.7.3)\n",
            "Requirement already satisfied: wavelink in /usr/local/lib/python3.7/dist-packages (from dismusic==1.0.1) (0.9.10)\n",
            "Requirement already satisfied: aiohttp<3.8.0,>=3.6.0 in /usr/local/lib/python3.7/dist-packages (from discord.py->dismusic==1.0.1) (3.7.4.post0)\n",
            "Requirement already satisfied: chardet<5.0,>=2.0 in /usr/local/lib/python3.7/dist-packages (from aiohttp<3.8.0,>=3.6.0->discord.py->dismusic==1.0.1) (3.0.4)\n",
            "Requirement already satisfied: yarl<2.0,>=1.0 in /usr/local/lib/python3.7/dist-packages (from aiohttp<3.8.0,>=3.6.0->discord.py->dismusic==1.0.1) (1.7.2)\n",
            "Requirement already satisfied: attrs>=17.3.0 in /usr/local/lib/python3.7/dist-packages (from aiohttp<3.8.0,>=3.6.0->discord.py->dismusic==1.0.1) (21.2.0)\n",
            "Requirement already satisfied: typing-extensions>=3.6.5 in /usr/local/lib/python3.7/dist-packages (from aiohttp<3.8.0,>=3.6.0->discord.py->dismusic==1.0.1) (3.10.0.2)\n",
            "Requirement already satisfied: multidict<7.0,>=4.5 in /usr/local/lib/python3.7/dist-packages (from aiohttp<3.8.0,>=3.6.0->discord.py->dismusic==1.0.1) (5.2.0)\n",
            "Requirement already satisfied: async-timeout<4.0,>=3.0 in /usr/local/lib/python3.7/dist-packages (from aiohttp<3.8.0,>=3.6.0->discord.py->dismusic==1.0.1) (3.0.1)\n",
            "Requirement already satisfied: idna>=2.0 in /usr/local/lib/python3.7/dist-packages (from yarl<2.0,>=1.0->aiohttp<3.8.0,>=3.6.0->discord.py->dismusic==1.0.1) (2.10)\n",
            "Requirement already satisfied: discord-custom-help in /usr/local/lib/python3.7/dist-packages (0.0.6)\n",
            "Requirement already satisfied: discord.py in /usr/local/lib/python3.7/dist-packages (from discord-custom-help) (1.7.3)\n",
            "Requirement already satisfied: aiohttp<3.8.0,>=3.6.0 in /usr/local/lib/python3.7/dist-packages (from discord.py->discord-custom-help) (3.7.4.post0)\n",
            "Requirement already satisfied: chardet<5.0,>=2.0 in /usr/local/lib/python3.7/dist-packages (from aiohttp<3.8.0,>=3.6.0->discord.py->discord-custom-help) (3.0.4)\n",
            "Requirement already satisfied: multidict<7.0,>=4.5 in /usr/local/lib/python3.7/dist-packages (from aiohttp<3.8.0,>=3.6.0->discord.py->discord-custom-help) (5.2.0)\n",
            "Requirement already satisfied: async-timeout<4.0,>=3.0 in /usr/local/lib/python3.7/dist-packages (from aiohttp<3.8.0,>=3.6.0->discord.py->discord-custom-help) (3.0.1)\n",
            "Requirement already satisfied: attrs>=17.3.0 in /usr/local/lib/python3.7/dist-packages (from aiohttp<3.8.0,>=3.6.0->discord.py->discord-custom-help) (21.2.0)\n",
            "Requirement already satisfied: typing-extensions>=3.6.5 in /usr/local/lib/python3.7/dist-packages (from aiohttp<3.8.0,>=3.6.0->discord.py->discord-custom-help) (3.10.0.2)\n",
            "Requirement already satisfied: yarl<2.0,>=1.0 in /usr/local/lib/python3.7/dist-packages (from aiohttp<3.8.0,>=3.6.0->discord.py->discord-custom-help) (1.7.2)\n",
            "Requirement already satisfied: idna>=2.0 in /usr/local/lib/python3.7/dist-packages (from yarl<2.0,>=1.0->aiohttp<3.8.0,>=3.6.0->discord.py->discord-custom-help) (2.10)\n",
            "Requirement already satisfied: nest-asyncio in /usr/local/lib/python3.7/dist-packages (1.5.4)\n"
          ]
        }
      ]
    },
    {
      "cell_type": "code",
      "metadata": {
        "id": "MjvN_78ozBsL"
      },
      "source": [
        "from discord.ext import commands\n",
        "import nest_asyncio\n",
        "nest_asyncio.apply()\n",
        "\n",
        "bot = commands.Bot(command_prefix='!')\n",
        "\n",
        "bot.lava_nodes = [\n",
        "    {\n",
        "        'host': 'lava.link',\n",
        "        'port' : 80,\n",
        "        'rest_uri': 'http://lava.link:80',\n",
        "        'identifier': 'IDENTIFIER_LAVA_NODES',\n",
        "        'password': 'PASWORD_JAVA_NODE',\n",
        "        'region': 'REGION JAVA_NODE' \n",
        "    }\n",
        "]\n",
        "\n",
        "@bot.event\n",
        "\n",
        "async def on_ready():\n",
        "   print('Bot is ready to play music.')\n",
        "   bot.load_extension('dismusic')\n",
        "\n",
        "bot.run(\"TOKEN_OF_YOUR_BOT\")\n"
      ],
      "execution_count": null,
      "outputs": []
    }
  ]
}